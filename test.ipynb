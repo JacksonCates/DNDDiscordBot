{
 "cells": [
  {
   "cell_type": "code",
   "execution_count": 1,
   "metadata": {},
   "outputs": [
    {
     "data": {
      "text/plain": [
       "('dnddiscordbot', '123456')"
      ]
     },
     "execution_count": 1,
     "metadata": {},
     "output_type": "execute_result"
    }
   ],
   "source": [
    "from repos import PlayerDatabase, LogDatabase, QuestDatabase\n",
    "from dotenv import load_dotenv\n",
    "import os\n",
    "\n",
    "load_dotenv()\n",
    "SQL_SERVER = os.getenv('SQL_SERVER')\n",
    "SQL_DATABASE = os.getenv('SQL_DATABASE')\n",
    "SQL_USER = os.getenv('SQL_USER')\n",
    "SQL_PASS = os.getenv('SQL_PASS')\n",
    "SQL_USER, SQL_PASS"
   ]
  },
  {
   "cell_type": "code",
   "execution_count": 2,
   "metadata": {},
   "outputs": [
    {
     "data": {
      "text/plain": [
       "[{'id': 2,\n",
       "  'date': datetime.datetime(2023, 8, 26, 10, 49, 44, 387000),\n",
       "  'content': 'This is my second log\\n\\nreeeeee'},\n",
       " {'id': 1,\n",
       "  'date': datetime.datetime(2023, 8, 26, 10, 48, 52, 33000),\n",
       "  'content': 'This is my first log reeeee'}]"
      ]
     },
     "execution_count": 2,
     "metadata": {},
     "output_type": "execute_result"
    }
   ],
   "source": [
    "db = LogDatabase(SQL_SERVER, SQL_DATABASE, SQL_USER, SQL_PASS)\n",
    "db.get_all_logs()"
   ]
  },
  {
   "cell_type": "code",
   "execution_count": 6,
   "metadata": {},
   "outputs": [
    {
     "data": {
      "text/plain": [
       "[{'id': 1,\n",
       "  'title': 'Quest1',\n",
       "  'status': 'INPROGRESS',\n",
       "  'content': 'Go do the thing\\n- thing1\\n- thing2'},\n",
       " {'id': 2,\n",
       "  'title': 'Quest2',\n",
       "  'status': 'INPROGRESS',\n",
       "  'content': 'Go do the thing\\n- thing1\\n- thing2'}]"
      ]
     },
     "execution_count": 6,
     "metadata": {},
     "output_type": "execute_result"
    }
   ],
   "source": [
    "db = QuestDatabase(SQL_SERVER, SQL_DATABASE, SQL_USER, SQL_PASS)\n",
    "#db.add_quest(\"Quest1\", \"Go do the thing\\n- thing1\\n- thing2\", [1,2,5])\n",
    "#db.add_quest(\"Quest2\", \"Go do the thing\\n- thing1\\n- thing2\", [1,2,3,4,5])\n",
    "db.get_all_quest(\"mrfrknfantastic\")"
   ]
  }
 ],
 "metadata": {
  "kernelspec": {
   "display_name": "Python 3",
   "language": "python",
   "name": "python3"
  },
  "language_info": {
   "codemirror_mode": {
    "name": "ipython",
    "version": 3
   },
   "file_extension": ".py",
   "mimetype": "text/x-python",
   "name": "python",
   "nbconvert_exporter": "python",
   "pygments_lexer": "ipython3",
   "version": "3.9.6"
  },
  "orig_nbformat": 4
 },
 "nbformat": 4,
 "nbformat_minor": 2
}
